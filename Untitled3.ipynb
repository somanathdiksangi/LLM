{
 "cells": [
  {
   "cell_type": "code",
   "execution_count": null,
   "id": "d6ca186b-6b90-4c55-bc58-494d203eff93",
   "metadata": {},
   "outputs": [],
   "source": []
  }
 ],
 "metadata": {
  "kernelspec": {
   "display_name": "",
   "name": ""
  },
  "language_info": {
   "name": ""
  }
 },
 "nbformat": 4,
 "nbformat_minor": 5
}
