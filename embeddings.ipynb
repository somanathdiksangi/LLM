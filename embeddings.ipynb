{
 "cells": [
  {
   "cell_type": "code",
   "execution_count": 2,
   "id": "8a4b4120-b355-46d6-8f01-f1bdeb4ec84a",
   "metadata": {},
   "outputs": [
    {
     "name": "stdout",
     "output_type": "stream",
     "text": [
      "tensor([2, 3, 5, 1])\n"
     ]
    }
   ],
   "source": [
    "import torch\n",
    "input_ids = torch.tensor([2, 3, 5, 1])\n",
    "print(input_ids)\n"
   ]
  },
  {
   "cell_type": "code",
   "execution_count": 3,
   "id": "da1dfccd-ecb5-46f4-a5ce-ea118c4cd3a9",
   "metadata": {},
   "outputs": [],
   "source": [
    "vocal_size=6\n",
    "out_dim=3"
   ]
  },
  {
   "cell_type": "code",
   "execution_count": 4,
   "id": "e7233a2b-a886-45ff-80c0-386d8044f01f",
   "metadata": {},
   "outputs": [],
   "source": [
    "embedding_layer=torch.nn.Embedding(vocal_size,out_dim)"
   ]
  },
  {
   "cell_type": "code",
   "execution_count": 5,
   "id": "e6c52d73-a131-4896-b61b-4858bdb46548",
   "metadata": {},
   "outputs": [
    {
     "name": "stdout",
     "output_type": "stream",
     "text": [
      "Parameter containing:\n",
      "tensor([[-1.3975,  0.8970,  1.5051],\n",
      "        [-0.0363, -1.7302,  0.4343],\n",
      "        [-1.6310,  0.1329,  0.1931],\n",
      "        [ 0.0218, -0.3869,  0.1888],\n",
      "        [-0.4875, -1.1832,  0.3513],\n",
      "        [ 0.2697,  1.2832, -0.1497]], requires_grad=True)\n"
     ]
    }
   ],
   "source": [
    "print(embedding_layer.weight)"
   ]
  },
  {
   "cell_type": "code",
   "execution_count": 6,
   "id": "0c703e6c-58ee-4367-8b76-0710af582a69",
   "metadata": {},
   "outputs": [
    {
     "name": "stdout",
     "output_type": "stream",
     "text": [
      "tensor([[ 0.0218, -0.3869,  0.1888]], grad_fn=<EmbeddingBackward0>)\n"
     ]
    }
   ],
   "source": [
    "print(embedding_layer(torch.tensor([3])))"
   ]
  },
  {
   "cell_type": "code",
   "execution_count": 7,
   "id": "cbc7004f-4ae1-42d6-94c5-984139675b84",
   "metadata": {},
   "outputs": [
    {
     "name": "stdout",
     "output_type": "stream",
     "text": [
      "tensor([[-1.6310,  0.1329,  0.1931],\n",
      "        [ 0.0218, -0.3869,  0.1888],\n",
      "        [ 0.2697,  1.2832, -0.1497],\n",
      "        [-0.0363, -1.7302,  0.4343]], grad_fn=<EmbeddingBackward0>)\n"
     ]
    }
   ],
   "source": [
    "print(embedding_layer(input_ids))"
   ]
  },
  {
   "cell_type": "code",
   "execution_count": null,
   "id": "0b82bbbf-a362-4586-af1a-4b1c58cd56f5",
   "metadata": {},
   "outputs": [],
   "source": []
  }
 ],
 "metadata": {
  "kernelspec": {
   "display_name": "Python 3 (ipykernel)",
   "language": "python",
   "name": "python3"
  },
  "language_info": {
   "codemirror_mode": {
    "name": "ipython",
    "version": 3
   },
   "file_extension": ".py",
   "mimetype": "text/x-python",
   "name": "python",
   "nbconvert_exporter": "python",
   "pygments_lexer": "ipython3",
   "version": "3.12.7"
  }
 },
 "nbformat": 4,
 "nbformat_minor": 5
}
